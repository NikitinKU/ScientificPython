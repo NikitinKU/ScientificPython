{
 "cells": [
  {
   "cell_type": "markdown",
   "id": "d0b94fa8",
   "metadata": {},
   "source": [
    "# 4. Численное интегрирование. Светимость черного тела.\n",
    "### Выполнил: Никитин Кирилл Юрьевич\n",
    "### Группа: 3821Б1ПР2\n",
    "\n",
    "## Шаги выполнения работы:\n",
    "1. Постройте для Солнца график зависимости $\\varphi(\\lambda, T)$ от $\\lambda$.\n",
    "2. Вычислить светимость Солнца на видимой области длин волн.\n",
    "3. Вычислить светимость Солнца для всех длин волн.\n",
    "4. Найти светимость Солнца с помощью закона Стефана - Больцмана.\n",
    "5. Найти солнечную постоянную.\n",
    "6. Результаты сравнить с данными из литературы.\n",
    "7. Сделать выводы."
   ]
  },
  {
   "cell_type": "markdown",
   "id": "8721a12e",
   "metadata": {},
   "source": [
    "## 1. График:"
   ]
  },
  {
   "cell_type": "code",
   "execution_count": 32,
   "id": "5a3705ed",
   "metadata": {},
   "outputs": [
    {
     "data": {
      "image/png": "[encoded data removed]",
      "text/plain": [
       "<Figure size 360x288 with 1 Axes>"
      ]
     },
     "metadata": {
      "needs_background": "light"
     },
     "output_type": "display_data"
    }
   ],
   "source": [
    "import matplotlib.pyplot as plt\n",
    "import numpy as np\n",
    "from scipy import integrate\n",
    "plt.figure(figsize = (5,4))\n",
    "T = 5778\n",
    "c = 2.9979*10**8\n",
    "h = 6.6261*10**-34\n",
    "k = 1.3806*10**-23\n",
    "x = np.linspace(1*10**-7,50*10**-7,100)\n",
    "y = (2*np.pi*h*c**2)/(x**5*(np.e**((h*c)/(x*k*T)) - 1))\n",
    "plt.plot (x,y)\n",
    "pass"
   ]
  },
  {
   "cell_type": "markdown",
   "id": "1d382cfa",
   "metadata": {},
   "source": [
    "## 2. Светимость Солнца на видимой области длин волн:\n",
    "\n",
    "Для определения энергии, излучаемой телом в определенном диапазоне частот\n",
    "$\\lambda_1$, $\\lambda_2$, необходимо найти следующий интеграл:\n",
    "$$\n",
    "R(\\lambda_1,\\lambda_2,T) = \\int_{\\lambda_1}^{\\lambda_2} \\varphi(\\lambda, T) d\\lambda.\n",
    "$$"
   ]
  },
  {
   "cell_type": "code",
   "execution_count": 33,
   "id": "a2ce09cc",
   "metadata": {},
   "outputs": [
    {
     "data": {
      "text/plain": [
       "26456374.429090716"
      ]
     },
     "execution_count": 33,
     "metadata": {},
     "output_type": "execute_result"
    }
   ],
   "source": [
    "a = 3.5 * (10**(-7))\n",
    "b = 7 * (10**(-7))\n",
    "n = 100\n",
    "h1 = (b - a)/n\n",
    "x = np.arange(a + h1/2, b, h1)\n",
    "y = (2*np.pi*h*c**2)/((x**5)*((np.e**((h*c)/(x*k*T))-1)))\n",
    "\n",
    "# Правило прямоугольника\n",
    "I_rect = h1*sum(y)\n",
    "I_rect"
   ]
  },
  {
   "cell_type": "code",
   "execution_count": 34,
   "id": "d235a663",
   "metadata": {},
   "outputs": [
    {
     "data": {
      "text/plain": [
       "26239134.004388973"
      ]
     },
     "execution_count": 34,
     "metadata": {},
     "output_type": "execute_result"
    }
   ],
   "source": [
    "# Правило трапеции\n",
    "I_trapz = integrate.trapz(y, x)\n",
    "I_trapz"
   ]
  },
  {
   "cell_type": "code",
   "execution_count": 35,
   "id": "1941d231",
   "metadata": {},
   "outputs": [
    {
     "data": {
      "text/plain": [
       "26239611.853874616"
      ]
     },
     "execution_count": 35,
     "metadata": {},
     "output_type": "execute_result"
    }
   ],
   "source": [
    "# Правило Симпсона\n",
    "I_simps = integrate.simps(y, x)\n",
    "I_simps"
   ]
  },
  {
   "cell_type": "markdown",
   "id": "e633efdd",
   "metadata": {},
   "source": [
    "## 3. Вычислить светимость Солнца для всех длин волн: от $0$ до $\\infty$ (через несобственный интеграл):\n"
   ]
  },
  {
   "cell_type": "code",
   "execution_count": 36,
   "id": "7b50af98",
   "metadata": {},
   "outputs": [
    {
     "name": "stderr",
     "output_type": "stream",
     "text": [
      "C:\\Users\\User\\AppData\\Local\\Temp\\ipykernel_1252\\3159490195.py:5: IntegrationWarning: The algorithm does not converge.  Roundoff error is detected\n",
      "  in the extrapolation table.  It is assumed that the requested tolerance\n",
      "  cannot be achieved, and that the returned result (if full_output = 1) is \n",
      "  the best which can be obtained.\n",
      "  noncI, abserr = integrate.quad(integrand, 0, np.inf)\n"
     ]
    },
    {
     "data": {
      "text/plain": [
       "62936791.375977434"
      ]
     },
     "execution_count": 36,
     "metadata": {},
     "output_type": "execute_result"
    }
   ],
   "source": [
    "import scipy\n",
    "def integrand (x):\n",
    "  return (2*np.pi*h*c**2)/(x**5*(np.e**((h*c)/(x*k*T)) - 1))\n",
    "\n",
    "noncI, abserr = integrate.quad(integrand, 0, np.inf)\n",
    "noncI"
   ]
  },
  {
   "cell_type": "markdown",
   "id": "e816e0a6",
   "metadata": {},
   "source": [
    "#### *Светимость Солнца для всех длин волн от $0$ до $\\infty$ равна:*"
   ]
  },
  {
   "cell_type": "code",
   "execution_count": 37,
   "id": "ed7e3f0f",
   "metadata": {},
   "outputs": [
    {
     "data": {
      "text/plain": [
       "3.827881358837831e+26"
      ]
     },
     "execution_count": 37,
     "metadata": {},
     "output_type": "execute_result"
    }
   ],
   "source": [
    "sunR = 6.957 * 10**8 # Радиус Солнца\n",
    "L1 = noncI * 4 * np.pi * sunR**2\n",
    "L1"
   ]
  },
  {
   "cell_type": "markdown",
   "id": "f2bdfd23",
   "metadata": {},
   "source": [
    "## 4. Нахождение светимости Солнца с помощью закона Стефана - Больцмана:\n"
   ]
  },
  {
   "cell_type": "code",
   "execution_count": 38,
   "id": "5656cbe9",
   "metadata": {},
   "outputs": [
    {
     "data": {
      "text/plain": [
       "3.843397958410175e+26"
      ]
     },
     "execution_count": 38,
     "metadata": {},
     "output_type": "execute_result"
    }
   ],
   "source": [
    "# Радиус Солнца инициализирован выше, как \"sunR\"\n",
    "sbConst = (2*(np.pi**5)*(k**4))/(15*(c**2)*(h**3)) # Константа Стефана-Больцмана (Вт·м^−2·К^−4)\n",
    "R = sbConst * T**4 #(Вт/м^2)\n",
    "L2 = R*4*np.pi*sunR**2 #(Вт)\n",
    "L2"
   ]
  },
  {
   "cell_type": "markdown",
   "id": "849f3d72",
   "metadata": {},
   "source": [
    "## 5. Нахождение солнечной постоянной:"
   ]
  },
  {
   "cell_type": "markdown",
   "id": "00abf5ab",
   "metadata": {},
   "source": [
    "*Cолнечная постоянная* - мощность солнечного излучения, падающего перпендикулярно на единичную площадку на высоте верхней границы атмосферы Земли"
   ]
  },
  {
   "cell_type": "code",
   "execution_count": 39,
   "id": "fa6d05cd",
   "metadata": {},
   "outputs": [],
   "source": [
    "S = 149.6 * 10**9 # Расстояние от Солнца до Земли (в метрах)\n"
   ]
  },
  {
   "cell_type": "markdown",
   "id": "2d63c1ac",
   "metadata": {},
   "source": [
    "#### *Cолнечная постоянная равна :*"
   ]
  },
  {
   "cell_type": "code",
   "execution_count": 40,
   "id": "b449b550",
   "metadata": {},
   "outputs": [
    {
     "data": {
      "text/plain": [
       "1366.6027931665326"
      ]
     },
     "execution_count": 40,
     "metadata": {},
     "output_type": "execute_result"
    }
   ],
   "source": [
    "E = L2/(4*np.pi*S**2) #(Вт/м^2)\n",
    "E"
   ]
  },
  {
   "cell_type": "markdown",
   "id": "40106868",
   "metadata": {},
   "source": [
    "## 6. Сравнение результатов с данными из литературы:"
   ]
  },
  {
   "cell_type": "markdown",
   "id": "de26178e",
   "metadata": {},
   "source": [
    "### *Данные из литературы (википедии) :*\n",
    "#### *Солнечная светимость:* $L☉ = 3,827⋅10^{26}(Вт) $\n",
    "#### *Солнечная постоянная:* $E = 1367 (Вт/м^{2})$\n",
    "\n",
    "### *Данные, полученные в ходе решения (+сравнение данных):*\n",
    "#### *1. Cветимость Солнца на видимой области длин волн:* $L☉ = 26239611.8538 (Вт)$\n",
    "#### *2. Cветимость Солнца для всех длин волн:* $L☉ = 3,827⋅10^{26}(Вт) $\n",
    "#### *3. Cветимость Солнца с помощью несобственного интеграла:* $L☉ = 3,827⋅10^{26}(Вт)$\n",
    "#### *4. Cветимость Солнца с помощью закона Стефана - Больцмана:* $L☉ = 3,843⋅10^{26}(Вт)$\n",
    "#### *5. Солнечная постоянная:* $E = 1366.6027931665326 (Вт/м^{2})$"
   ]
  },
  {
   "cell_type": "markdown",
   "id": "93215436",
   "metadata": {},
   "source": [
    "## 7. Вывод:\n",
    "#### *1. С учётом погрешности полученные результаты совпадают с данными из литературы.*\n",
    "#### *2. Во втором пункте (нахождение светимость Солнца на видимой области длин волн) способы трапеции и Симпсона дают более точный результат, нежели способ прямоугольника.*\n",
    "#### *3. Вычисление солнечной постоянной с помощью несобственного интеграла дали более точный результат, чем способ с приминением закона Стефана - Больцмана.*"
   ]
  }
 ],
 "metadata": {
  "kernelspec": {
   "display_name": "Python 3 (ipykernel)",
   "language": "python",
   "name": "python3"
  },
  "language_info": {
   "codemirror_mode": {
    "name": "ipython",
    "version": 3
   },
   "file_extension": ".py",
   "mimetype": "text/x-python",
   "name": "python",
   "nbconvert_exporter": "python",
   "pygments_lexer": "ipython3",
   "version": "3.10.4"
  }
 },
 "nbformat": 4,
 "nbformat_minor": 5
}
